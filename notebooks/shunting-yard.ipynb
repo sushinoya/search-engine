{
 "cells": [
  {
   "cell_type": "code",
   "execution_count": 148,
   "metadata": {},
   "outputs": [],
   "source": [
    "from collections import defaultdict\n",
    "\n",
    "# Shunting-yard\n",
    "\n",
    "operators = op_not, op_and, op_or = \"NOT\", \"AND\", \"OR\"\n",
    "parens = left_par, right_par = \"(\", \")\"\n",
    "normalisation_rules = {token: \" {} \".format(token) for token in parens}\n",
    "precedence = defaultdict(lambda: -1, {\n",
    "    op_not: 0,\n",
    "    op_and: 0,\n",
    "    op_or: 0\n",
    "})\n",
    "\n",
    "def tokenize(formula):\n",
    "    for find, replace in normalisation_rules.items():\n",
    "        formula = formula.replace(find, replace)\n",
    "    return formula.split()\n",
    "\n",
    "def is_operand(token):\n",
    "    return not is_operator(token) and token not in parens\n",
    "\n",
    "def is_operator(token):\n",
    "    return token in operators\n",
    "\n",
    "def not_greater_precedence(token, top_stack_item): \n",
    "    return precedence[token] <= precedence[top_stack_item] \n",
    "      \n",
    "def shunting_yard(infix):\n",
    "    tokens = tokenize(infix)\n",
    "    output = []\n",
    "    op_stack = []\n",
    "    \n",
    "    for token in tokens:\n",
    "        if is_operand(token):\n",
    "            output.append(token)\n",
    "        \n",
    "        elif token is left_par:\n",
    "            op_stack.append(token)\n",
    "        \n",
    "        elif token is right_par:\n",
    "            while op_stack and op_stack[-1] is not left_par: \n",
    "                stack_token = op_stack.pop() \n",
    "                output.append(stack_token) \n",
    "            op_stack.pop() # Removing the \"(\"\n",
    "        \n",
    "        else:\n",
    "            while op_stack and not_greater_precedence(token, op_stack[-1]): \n",
    "                output.append(op_stack.pop()) \n",
    "            op_stack.append(token) \n",
    "    \n",
    "    if op_stack: output.extend(reversed(op_stack))\n",
    "    return ' '.join(output)"
   ]
  },
  {
   "cell_type": "code",
   "execution_count": 149,
   "metadata": {},
   "outputs": [
    {
     "data": {
      "text/plain": [
       "'bill Gates OR vista XP OR AND AND mac NOT'"
      ]
     },
     "execution_count": 149,
     "metadata": {},
     "output_type": "execute_result"
    }
   ],
   "source": [
    "shunting_yard(\"bill OR Gates AND (vista OR XP) AND NOT mac\")"
   ]
  },
  {
   "cell_type": "code",
   "execution_count": 150,
   "metadata": {},
   "outputs": [],
   "source": [
    "tests = {\n",
    "    \"NOT A\": \"A NOT\",\n",
    "    \"A AND B\": \"A B AND\",\n",
    "    \"A AND (B AND C)\": \"A B C AND AND\",\n",
    "    \"A OR (NOT(B) AND C)\": \"A B NOT C AND OR\"\n",
    "}\n",
    "\n",
    "def run_tests():\n",
    "    for infix, expected_postfix in tests.items():\n",
    "        algo_output = shunting_yard(infix)\n",
    "        print(algo_output, expected_postfix)\n"
   ]
  },
  {
   "cell_type": "code",
   "execution_count": 151,
   "metadata": {},
   "outputs": [
    {
     "name": "stdout",
     "output_type": "stream",
     "text": [
      "('A B AND', 'A B AND')\n",
      "('A B NOT C AND OR', 'A B NOT C AND OR')\n",
      "('A B C AND AND', 'A B C AND AND')\n",
      "('A NOT', 'A NOT')\n"
     ]
    }
   ],
   "source": [
    "run_tests()"
   ]
  },
  {
   "cell_type": "code",
   "execution_count": null,
   "metadata": {},
   "outputs": [],
   "source": []
  }
 ],
 "metadata": {
  "kernelspec": {
   "display_name": "Python 2",
   "language": "python",
   "name": "python2"
  },
  "language_info": {
   "codemirror_mode": {
    "name": "ipython",
    "version": 2
   },
   "file_extension": ".py",
   "mimetype": "text/x-python",
   "name": "python",
   "nbconvert_exporter": "python",
   "pygments_lexer": "ipython2",
   "version": "2.7.15"
  }
 },
 "nbformat": 4,
 "nbformat_minor": 2
}
