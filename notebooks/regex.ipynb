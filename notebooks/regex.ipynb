{
 "cells": [
  {
   "cell_type": "code",
   "execution_count": 33,
   "metadata": {},
   "outputs": [],
   "source": [
    "import re\n",
    "txt = \"suyash/shekhar\"\n",
    "reg = \"(?P<back>[a-zA-Z0-9]*)\\/(?P<forward>[a-zA-Z0-9]*)\"\n",
    "rep = \"\\g<back> \\g<forward>\""
   ]
  },
  {
   "cell_type": "code",
   "execution_count": 34,
   "metadata": {},
   "outputs": [
    {
     "data": {
      "text/plain": [
       "'suyash shekhar'"
      ]
     },
     "execution_count": 34,
     "metadata": {},
     "output_type": "execute_result"
    }
   ],
   "source": [
    "re.sub(reg, rep, txt)"
   ]
  },
  {
   "cell_type": "code",
   "execution_count": 35,
   "metadata": {},
   "outputs": [],
   "source": [
    "index_text_preprocessing_rules = {\n",
    "    \"(?<=\\d) (\\/|-|,) (?=\\d)\" : \"\", # Slashes, dot, comma, dash preceeded and succeeded by a digit\n",
    "    \"(?<=\\d)(\\.)\\d*\\s\": \" \", # Remove digits after the decimal place\n",
    "\n",
    "    # Eg. Change suyash/shekhar to  suyash shekhar\n",
    "    \"(?P<back>[a-zA-Z0-9]*)\\/(?P<forward>[a-zA-Z0-9]*)\": \"\\g<back> \\g<forward>\"\n",
    "}\n",
    "\n",
    "def preprocess_raw_text(text):\n",
    "    for regex, replacement in index_text_preprocessing_rules.items():\n",
    "        text = re.sub(regex, replacement, text)\n",
    "    return text\n",
    "\n"
   ]
  },
  {
   "cell_type": "code",
   "execution_count": 36,
   "metadata": {},
   "outputs": [
    {
     "data": {
      "text/plain": [
       "'123.1231'"
      ]
     },
     "execution_count": 36,
     "metadata": {},
     "output_type": "execute_result"
    }
   ],
   "source": [
    "preprocess_raw_text(\"123.1231\")"
   ]
  },
  {
   "cell_type": "code",
   "execution_count": 38,
   "metadata": {},
   "outputs": [
    {
     "data": {
      "text/plain": [
       "'12321.21321'"
      ]
     },
     "execution_count": 38,
     "metadata": {},
     "output_type": "execute_result"
    }
   ],
   "source": [
    "re.sub(\"(?<=\\d)(\\.)\\d*\\s\", \" \", \"12321.21321\")"
   ]
  },
  {
   "cell_type": "code",
   "execution_count": 49,
   "metadata": {},
   "outputs": [
    {
     "data": {
      "text/plain": [
       "'12321 21321'"
      ]
     },
     "execution_count": 49,
     "metadata": {},
     "output_type": "execute_result"
    }
   ],
   "source": [
    "re.sub(\"(?P<back>\\d)(\\/|-|,)(?P<front>\\d)\", \"\\g<back> \\g<front>\", \"12321/21321\")"
   ]
  },
  {
   "cell_type": "code",
   "execution_count": null,
   "metadata": {},
   "outputs": [],
   "source": [
    "# Format A and NOT B\n",
    "\n",
    "def check_format(query):\n",
    "    if "
   ]
  },
  {
   "cell_type": "code",
   "execution_count": 81,
   "metadata": {},
   "outputs": [
    {
     "data": {
      "text/plain": [
       "' ( ( SUYASH AND HAOZHE ) MINUS ( SUYASH OR SHITIAN AND NOT YOU ) )  '"
      ]
     },
     "execution_count": 81,
     "metadata": {},
     "output_type": "execute_result"
    }
   ],
   "source": [
    "# A AND NOT B\n",
    "txt = \"( SUYASH AND HAOZHE ) AND  NOT ( SUYASH OR SHITIAN AND NOT YOU ) \"\n",
    "reg = \"(?P<A>\\(.*\\)|\\w*)\\s*AND\\s*NOT\\s*(?P<B>\\(.*\\)|\\w*)\"\n",
    "rep = \" ( \\g<A> MINUS \\g<B> ) \"\n",
    "\n",
    "while re.match(reg, txt):\n",
    "    txt = re.sub(reg, rep, txt)\n",
    "txt"
   ]
  },
  {
   "cell_type": "code",
   "execution_count": 79,
   "metadata": {},
   "outputs": [
    {
     "data": {
      "text/plain": [
       "'SUYASH AND  ( HAOZHE MINUS SUYASH ) '"
      ]
     },
     "execution_count": 79,
     "metadata": {},
     "output_type": "execute_result"
    }
   ],
   "source": [
    "re.sub(reg, rep, 'SUYASH AND HAOZHE AND NOT SUYASH')"
   ]
  },
  {
   "cell_type": "code",
   "execution_count": null,
   "metadata": {},
   "outputs": [],
   "source": []
  }
 ],
 "metadata": {
  "kernelspec": {
   "display_name": "Python 2",
   "language": "python",
   "name": "python2"
  },
  "language_info": {
   "codemirror_mode": {
    "name": "ipython",
    "version": 2
   },
   "file_extension": ".py",
   "mimetype": "text/x-python",
   "name": "python",
   "nbconvert_exporter": "python",
   "pygments_lexer": "ipython2",
   "version": "2.7.15"
  }
 },
 "nbformat": 4,
 "nbformat_minor": 2
}
